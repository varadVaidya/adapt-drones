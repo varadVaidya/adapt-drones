{
 "cells": [
  {
   "cell_type": "code",
   "execution_count": 1,
   "metadata": {},
   "outputs": [],
   "source": [
    "import numpy as np\n",
    "import matplotlib.pyplot as plt\n",
    "\n",
    "plt.style.use(\"seaborn-v0_8\")\n",
    "\n",
    "# latex settings for matplotlib\n",
    "from dataclasses import dataclass\n",
    "import tyro\n",
    "from adapt_drones.cfgs.config import *"
   ]
  },
  {
   "cell_type": "code",
   "execution_count": 2,
   "metadata": {},
   "outputs": [],
   "source": [
    "@dataclass\n",
    "class Args:\n",
    "    env_id: str = \"traj_v3\"\n",
    "    run_name: str = \"different-jazz-16\"\n",
    "    seed: int = 20240915\n",
    "    agent: str = \"RMA_DATT\"\n",
    "    scale: bool = True\n",
    "\n",
    "\n",
    "args = Args()\n",
    "\n",
    "cfg = Config(\n",
    "    env_id=args.env_id,\n",
    "    seed=args.seed,\n",
    "    eval=True,\n",
    "    run_name=args.run_name,\n",
    "    agent=args.agent,\n",
    "    scale=args.scale,\n",
    ")\n",
    "run_folder = \"../runs/\" + cfg.grp_name + \"/\" + cfg.run_name + \"/\"\n",
    "results_folder = run_folder + \"results-icra/\"\n",
    "\n",
    "phase_1_results = np.load(results_folder + \"phase_1_results.npy\")\n",
    "RMA_DATT_results = np.load(results_folder + \"rma_datt_results.npy\")\n"
   ]
  },
  {
   "cell_type": "code",
   "execution_count": 3,
   "metadata": {},
   "outputs": [
    {
     "data": {
      "text/plain": [
       "((2, 5, 4, 9), (2, 5, 4, 9))"
      ]
     },
     "execution_count": 3,
     "metadata": {},
     "output_type": "execute_result"
    }
   ],
   "source": [
    "phase_1_results.shape, RMA_DATT_results.shape"
   ]
  },
  {
   "cell_type": "code",
   "execution_count": 4,
   "metadata": {},
   "outputs": [],
   "source": [
    "num_trajs = phase_1_results.shape[0]\n"
   ]
  },
  {
   "cell_type": "code",
   "execution_count": 5,
   "metadata": {},
   "outputs": [
    {
     "name": "stdout",
     "output_type": "stream",
     "text": [
      "[0.03434196 0.04022144 0.04296609 0.04005431 0.03810129]\n",
      "[0.0304072  0.03505253 0.03719539 0.03368274 0.03387013]\n",
      "help\n"
     ]
    },
    {
     "data": {
      "text/plain": [
       "array([[[0.04465301, 0.03537183, 0.02882045, 0.02852257],\n",
       "        [0.04521064, 0.04064756, 0.03650462, 0.03852295],\n",
       "        [0.04766529, 0.04337922, 0.03909585, 0.04172401],\n",
       "        [0.04738229, 0.04098467, 0.03572609, 0.03612419],\n",
       "        [0.04556997, 0.03899474, 0.03380926, 0.0340312 ]],\n",
       "\n",
       "       [[0.03546854, 0.03031667, 0.0283613 , 0.02748231],\n",
       "        [0.03746202, 0.03505669, 0.03359282, 0.03409861],\n",
       "        [0.0391689 , 0.03731448, 0.03555507, 0.03674312],\n",
       "        [0.03734008, 0.03393944, 0.03198381, 0.03146763],\n",
       "        [0.03844681, 0.03400183, 0.03191638, 0.03111551]]])"
      ]
     },
     "execution_count": 5,
     "metadata": {},
     "output_type": "execute_result"
    }
   ],
   "source": [
    "for i in range(num_trajs):\n",
    "    phase_1_traj = phase_1_results[i]\n",
    "    print(np.mean(phase_1_traj[:,:,2], axis=1))\n",
    "    idx_sort_phase = np.argsort(np.mean(phase_1_traj[:,:,2], axis=1))\n",
    "\n",
    "print(\"help\")\n",
    "phase_1_results[:,:,:,2]"
   ]
  },
  {
   "cell_type": "code",
   "execution_count": 6,
   "metadata": {},
   "outputs": [
    {
     "name": "stdout",
     "output_type": "stream",
     "text": [
      "[[0.03434196 0.04022144 0.04296609 0.04005431 0.03810129]\n",
      " [0.0304072  0.03505253 0.03719539 0.03368274 0.03387013]]\n",
      "[[0 4 3 1 2]\n",
      " [0 3 4 1 2]]\n",
      "(2, 5, 4, 9)\n",
      "(2, 5, 4, 9)\n",
      "(2, 3, 4, 9)\n",
      "[[0.03810129 0.04005431 0.04022144]\n",
      " [0.03387013 0.03368274 0.03505253]]\n"
     ]
    }
   ],
   "source": [
    "print(np.mean(phase_1_results[:,:,:,2],axis=2))\n",
    "print(np.argsort(np.mean(phase_1_results[:,:,:,2],axis=2)))\n",
    "sorts = np.argsort(np.mean(phase_1_results[:,:,:,2],axis=2))\n",
    "print(phase_1_results.shape)\n",
    "print(phase_1_results[:,sorts[0],:,:].shape)\n",
    "phase_1_results = phase_1_results[:,sorts[0],:,:]    \n",
    "print(phase_1_results[:,1:-1,:,:].shape)\n",
    "phase_1_results = phase_1_results[:,1:-1,:,:]\n",
    "print(np.mean(phase_1_results[:,:,:,2],axis=2))"
   ]
  },
  {
   "cell_type": "code",
   "execution_count": 7,
   "metadata": {},
   "outputs": [
    {
     "data": {
      "text/plain": [
       "(2, 4)"
      ]
     },
     "execution_count": 7,
     "metadata": {},
     "output_type": "execute_result"
    }
   ],
   "source": [
    "mean_error = np.mean(phase_1_results[:,:,:,2],axis=1)\n",
    "mean_error.shape"
   ]
  },
  {
   "cell_type": "code",
   "execution_count": 8,
   "metadata": {},
   "outputs": [
    {
     "data": {
      "text/plain": [
       "array([[[0.05      , 0.08666667, 0.12333333, 0.16      ],\n",
       "        [0.05      , 0.08666667, 0.12333333, 0.16      ],\n",
       "        [0.05      , 0.08666667, 0.12333333, 0.16      ]],\n",
       "\n",
       "       [[0.05      , 0.08666667, 0.12333333, 0.16      ],\n",
       "        [0.05      , 0.08666667, 0.12333333, 0.16      ],\n",
       "        [0.05      , 0.08666667, 0.12333333, 0.16      ]]])"
      ]
     },
     "execution_count": 8,
     "metadata": {},
     "output_type": "execute_result"
    }
   ],
   "source": [
    "phase_1_results[:,:,:,0]\n"
   ]
  },
  {
   "cell_type": "code",
   "execution_count": 9,
   "metadata": {},
   "outputs": [
    {
     "data": {
      "text/plain": [
       "array([[[0.04556997, 0.03899474, 0.03380926, 0.0340312 ],\n",
       "        [0.04738229, 0.04098467, 0.03572609, 0.03612419],\n",
       "        [0.04521064, 0.04064756, 0.03650462, 0.03852295]],\n",
       "\n",
       "       [[0.03844681, 0.03400183, 0.03191638, 0.03111551],\n",
       "        [0.03734008, 0.03393944, 0.03198381, 0.03146763],\n",
       "        [0.03746202, 0.03505669, 0.03359282, 0.03409861]]])"
      ]
     },
     "execution_count": 9,
     "metadata": {},
     "output_type": "execute_result"
    }
   ],
   "source": [
    "phase_1_results[:,:,:,2]"
   ]
  },
  {
   "cell_type": "code",
   "execution_count": 13,
   "metadata": {},
   "outputs": [
    {
     "data": {
      "text/plain": [
       "array([[0.0460543 , 0.04020899, 0.03534666, 0.03622611],\n",
       "       [0.03774964, 0.03433265, 0.03249767, 0.03222725]])"
      ]
     },
     "execution_count": 13,
     "metadata": {},
     "output_type": "execute_result"
    }
   ],
   "source": [
    "np.mean(phase_1_results[:,:,:,2],axis=1)"
   ]
  },
  {
   "cell_type": "code",
   "execution_count": 14,
   "metadata": {},
   "outputs": [
    {
     "data": {
      "text/plain": [
       "array([0.0460543 , 0.04020899, 0.03534666, 0.03622611, 0.03774964,\n",
       "       0.03433265, 0.03249767, 0.03222725])"
      ]
     },
     "execution_count": 14,
     "metadata": {},
     "output_type": "execute_result"
    }
   ],
   "source": [
    "np.mean(phase_1_results[:,:,:,2],axis=1).reshape(8)"
   ]
  },
  {
   "cell_type": "code",
   "execution_count": 11,
   "metadata": {},
   "outputs": [],
   "source": [
    "data = np.zeros((8,7))"
   ]
  },
  {
   "cell_type": "code",
   "execution_count": 12,
   "metadata": {},
   "outputs": [
    {
     "ename": "ValueError",
     "evalue": "could not broadcast input array from shape (2,4) into shape (8,)",
     "output_type": "error",
     "traceback": [
      "\u001b[0;31m---------------------------------------------------------------------------\u001b[0m",
      "\u001b[0;31mValueError\u001b[0m                                Traceback (most recent call last)",
      "Cell \u001b[0;32mIn[12], line 1\u001b[0m\n\u001b[0;32m----> 1\u001b[0m \u001b[43mdata\u001b[49m\u001b[43m[\u001b[49m\u001b[43m:\u001b[49m\u001b[43m,\u001b[49m\u001b[38;5;241;43m2\u001b[39;49m\u001b[43m]\u001b[49m \u001b[38;5;241m=\u001b[39m np\u001b[38;5;241m.\u001b[39mmean(phase_1_results[:,:,:,\u001b[38;5;241m2\u001b[39m],axis\u001b[38;5;241m=\u001b[39m\u001b[38;5;241m1\u001b[39m)\n",
      "\u001b[0;31mValueError\u001b[0m: could not broadcast input array from shape (2,4) into shape (8,)"
     ]
    }
   ],
   "source": [
    "data[:,2] = np.mean(phase_1_results[:,:,:,2],axis=1)"
   ]
  },
  {
   "cell_type": "code",
   "execution_count": null,
   "metadata": {},
   "outputs": [],
   "source": []
  }
 ],
 "metadata": {
  "kernelspec": {
   "display_name": "adapt-drones",
   "language": "python",
   "name": "python3"
  },
  "language_info": {
   "codemirror_mode": {
    "name": "ipython",
    "version": 3
   },
   "file_extension": ".py",
   "mimetype": "text/x-python",
   "name": "python",
   "nbconvert_exporter": "python",
   "pygments_lexer": "ipython3",
   "version": "3.10.12"
  }
 },
 "nbformat": 4,
 "nbformat_minor": 2
}
