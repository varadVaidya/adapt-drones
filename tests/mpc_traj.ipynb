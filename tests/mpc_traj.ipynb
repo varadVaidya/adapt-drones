{
 "cells": [
  {
   "cell_type": "code",
   "execution_count": 1,
   "metadata": {},
   "outputs": [],
   "source": [
    "import numpy as np\n",
    "from scipy.interpolate import interp1d"
   ]
  },
  {
   "cell_type": "code",
   "execution_count": 2,
   "metadata": {},
   "outputs": [],
   "source": [
    "main_dt = 0.01\n",
    "T = 0.1\n",
    "t = np.linspace(0, T, int(T/main_dt)+1)\n",
    "\n",
    "resample_dt = 0.02\n",
    "t_resample = np.linspace(0, T, int(T/resample_dt)+1)\n",
    "\n",
    "trajectory = np.sin(2*np.pi*t)\n",
    "\n",
    "f = interp1d(t, trajectory, kind='cubic')\n",
    "trajectory_resampled = f(t_resample)\n",
    "\n"
   ]
  },
  {
   "cell_type": "code",
   "execution_count": 3,
   "metadata": {},
   "outputs": [
    {
     "data": {
      "image/png": "[encoded data removed]",
      "text/plain": [
       "<Figure size 640x480 with 1 Axes>"
      ]
     },
     "metadata": {},
     "output_type": "display_data"
    }
   ],
   "source": [
    "import matplotlib.pyplot as plt\n",
    "plt.plot(t, trajectory, 'o', label='original')\n",
    "plt.plot(t_resample, trajectory_resampled, 'x', label='resampled')\n",
    "plt.legend()\n",
    "plt.show()"
   ]
  },
  {
   "cell_type": "code",
   "execution_count": 4,
   "metadata": {},
   "outputs": [],
   "source": [
    "from adapt_drones.utils.mpc_utils import get_reference_trajectory\n",
    "trajectory_dataset = np.load(\"/scratch/robotics/adapt-drones/adapt_drones/assets/slow_pi_tcn_eval.npy\")"
   ]
  },
  {
   "cell_type": "code",
   "execution_count": 5,
   "metadata": {},
   "outputs": [
    {
     "name": "stdout",
     "output_type": "stream",
     "text": [
      "Resampled trajectory shape: (3170, 8)\n"
     ]
    },
    {
     "data": {
      "text/plain": [
       "(array([[-1.934632  , -0.353173  ,  1.284428  , ...,  0.        ,\n",
       "          0.        ,  0.        ],\n",
       "        [-1.93463095, -0.35317416,  1.2844288 , ...,  0.        ,\n",
       "          0.        ,  0.        ],\n",
       "        [-1.93462377, -0.35318208,  1.28443418, ...,  0.        ,\n",
       "          0.        ,  0.        ],\n",
       "        ...,\n",
       "        [-1.83989501, -0.39492638,  1.23857788, ...,  0.        ,\n",
       "          0.        ,  0.        ],\n",
       "        [-1.83993777, -0.39488102,  1.23899199, ...,  0.        ,\n",
       "          0.        ,  0.        ],\n",
       "        [-1.83995413, -0.394863  ,  1.23915498, ...,  0.        ,\n",
       "          0.        ,  0.        ]]),\n",
       " array([[0., 0., 0., 0.],\n",
       "        [0., 0., 0., 0.],\n",
       "        [0., 0., 0., 0.],\n",
       "        ...,\n",
       "        [0., 0., 0., 0.],\n",
       "        [0., 0., 0., 0.],\n",
       "        [0., 0., 0., 0.]]),\n",
       " array([0.000e+00, 2.000e-02, 4.000e-02, ..., 6.334e+01, 6.336e+01,\n",
       "        6.338e+01]))"
      ]
     },
     "execution_count": 5,
     "metadata": {},
     "output_type": "execute_result"
    }
   ],
   "source": [
    "get_reference_trajectory(trajectory_dataset, 1, 0.02)"
   ]
  },
  {
   "cell_type": "code",
   "execution_count": null,
   "metadata": {},
   "outputs": [],
   "source": []
  }
 ],
 "metadata": {
  "kernelspec": {
   "display_name": "adapt-drones",
   "language": "python",
   "name": "python3"
  },
  "language_info": {
   "codemirror_mode": {
    "name": "ipython",
    "version": 3
   },
   "file_extension": ".py",
   "mimetype": "text/x-python",
   "name": "python",
   "nbconvert_exporter": "python",
   "pygments_lexer": "ipython3",
   "version": "3.10.12"
  }
 },
 "nbformat": 4,
 "nbformat_minor": 2
}
