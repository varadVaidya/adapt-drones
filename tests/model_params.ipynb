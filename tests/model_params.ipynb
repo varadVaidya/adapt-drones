{
 "cells": [
  {
   "cell_type": "code",
   "execution_count": 1,
   "metadata": {},
   "outputs": [],
   "source": [
    "import numpy as np\n",
    "import torch\n",
    "from adapt_drones.networks.agents import  RMA_DATT\n",
    "from adapt_drones.networks.adapt_net import  AdaptationNetwork\n",
    "from dataclasses import  dataclass\n",
    "from typing import  Union\n",
    "from adapt_drones.cfgs.config import *\n",
    "import gymnasium as gym"
   ]
  },
  {
   "cell_type": "code",
   "execution_count": 2,
   "metadata": {},
   "outputs": [],
   "source": [
    "model_path = \"../runs/adapt-ICRA/traj_v3-RMA_DATT/earthy-snowball-77/best_model.pt\"\n",
    "adapt_path = \"../runs/adapt-ICRA/traj_v3-RMA_DATT/earthy-snowball-77/adapt_network.pt\""
   ]
  },
  {
   "cell_type": "code",
   "execution_count": 3,
   "metadata": {},
   "outputs": [],
   "source": [
    "@dataclass\n",
    "class Args:\n",
    "    env_id: str = \"traj_v3\"\n",
    "    run_name: str = \"earthy-snowball-77\"\n",
    "    seed: int = 15092024\n",
    "    agent: str = \"RMA_DATT\"\n",
    "    scale: bool = True\n",
    "    idx: Union[int, None] = None\n",
    "    wind_bool: bool = True\n",
    "\n",
    "args = Args()\n",
    "cfg = Config(\n",
    "    env_id=args.env_id,\n",
    "    seed=args.seed,\n",
    "    eval=True,\n",
    "    run_name=args.run_name,\n",
    "    agent=args.agent,\n",
    "    scale=args.scale,\n",
    "    wind_bool=args.wind_bool,\n",
    ")\n",
    "env = gym.make(cfg.env_id, cfg=cfg)\n",
    "env = gym.wrappers.FlattenObservation(env)\n",
    "env = gym.wrappers.RecordEpisodeStatistics(env)\n",
    "device = torch.device(\"cuda\" if torch.cuda.is_available() else \"cpu\")"
   ]
  },
  {
   "cell_type": "code",
   "execution_count": 4,
   "metadata": {},
   "outputs": [
    {
     "data": {
      "text/plain": [
       "RMA_DATT(\n",
       "  (env_encoder): EnvironmentalEncoder(\n",
       "    (model): Sequential(\n",
       "      (0): Linear(in_features=10, out_features=64, bias=True)\n",
       "      (1): Tanh()\n",
       "      (2): Linear(in_features=64, out_features=64, bias=True)\n",
       "      (3): Tanh()\n",
       "      (4): Linear(in_features=64, out_features=8, bias=True)\n",
       "    )\n",
       "  )\n",
       "  (traj_encoder): TrajectoryEncoder(\n",
       "    (conv1): Conv1d(1, 32, kernel_size=(3,), stride=(1,))\n",
       "    (conv2): Conv1d(32, 32, kernel_size=(3,), stride=(1,))\n",
       "    (conv3): Conv1d(32, 32, kernel_size=(3,), stride=(1,))\n",
       "    (linear): Linear(in_features=19008, out_features=32, bias=True)\n",
       "  )\n",
       "  (critic): Critic(\n",
       "    (model): Sequential(\n",
       "      (0): Linear(in_features=52, out_features=64, bias=True)\n",
       "      (1): Tanh()\n",
       "      (2): Linear(in_features=64, out_features=64, bias=True)\n",
       "      (3): Tanh()\n",
       "      (4): Linear(in_features=64, out_features=64, bias=True)\n",
       "      (5): Tanh()\n",
       "      (6): Linear(in_features=64, out_features=1, bias=True)\n",
       "    )\n",
       "  )\n",
       "  (actor_mean): Actor(\n",
       "    (model): Sequential(\n",
       "      (0): Linear(in_features=52, out_features=64, bias=True)\n",
       "      (1): Tanh()\n",
       "      (2): Linear(in_features=64, out_features=64, bias=True)\n",
       "      (3): Tanh()\n",
       "      (4): Linear(in_features=64, out_features=64, bias=True)\n",
       "      (5): Tanh()\n",
       "      (6): Linear(in_features=64, out_features=4, bias=True)\n",
       "      (7): Tanh()\n",
       "    )\n",
       "  )\n",
       ")"
      ]
     },
     "execution_count": 4,
     "metadata": {},
     "output_type": "execute_result"
    }
   ],
   "source": [
    "agent = RMA_DATT(\n",
    "    priv_info_shape=env.unwrapped.priv_info_shape,\n",
    "    state_shape=env.unwrapped.state_obs_shape,\n",
    "    traj_shape=env.unwrapped.reference_traj_shape,\n",
    "    action_shape=env.action_space.shape,\n",
    ").to(device)\n",
    "agent.load_state_dict(torch.load(model_path, weights_only=True))\n",
    "agent.eval()"
   ]
  },
  {
   "cell_type": "code",
   "execution_count": 5,
   "metadata": {},
   "outputs": [
    {
     "data": {
      "text/plain": [
       "<All keys matched successfully>"
      ]
     },
     "execution_count": 5,
     "metadata": {},
     "output_type": "execute_result"
    }
   ],
   "source": [
    "priv_info_shape = env.unwrapped.priv_info_shape\n",
    "state_shape = env.unwrapped.state_obs_shape\n",
    "traj_shape = env.unwrapped.reference_traj_shape\n",
    "action_shape = env.action_space.shape[0]\n",
    "\n",
    "state_action_shape = state_shape + action_shape\n",
    "time_horizon = cfg.network.adapt_time_horizon\n",
    "\n",
    "adapt_input = time_horizon * state_action_shape\n",
    "adapt_output = cfg.network.env_encoder_output\n",
    "\n",
    "adapt_net = AdaptationNetwork(adapt_input, adapt_output).to(device)\n",
    "adapt_net.load_state_dict(torch.load(adapt_path, weights_only=True))"
   ]
  },
  {
   "cell_type": "code",
   "execution_count": 6,
   "metadata": {},
   "outputs": [],
   "source": [
    "def numel(m: torch.nn.Module, only_trainable: bool = False):\n",
    "    \"\"\"\n",
    "    Returns the total number of parameters used by `m` (only counting\n",
    "    shared parameters once); if `only_trainable` is True, then only\n",
    "    includes parameters with `requires_grad = True`\n",
    "    \"\"\"\n",
    "    parameters = list(m.parameters())\n",
    "    if only_trainable:\n",
    "        parameters = [p for p in parameters if p.requires_grad]\n",
    "    unique = {p.data_ptr(): p for p in parameters}.values()\n",
    "    return sum(p.numel() for p in unique)"
   ]
  },
  {
   "cell_type": "code",
   "execution_count": 7,
   "metadata": {},
   "outputs": [
    {
     "name": "stdout",
     "output_type": "stream",
     "text": [
      "Model has 643761 parameters\n",
      "Adaptation network has 845896 parameters\n",
      "Total number of parameters: 1489657\n"
     ]
    }
   ],
   "source": [
    "print(f\"Model has {numel(agent)} parameters\")\n",
    "print(f\"Adaptation network has {numel(adapt_net)} parameters\")\n",
    "\n",
    "print(\"Total number of parameters:\", numel(agent) + numel(adapt_net))"
   ]
  },
  {
   "cell_type": "code",
   "execution_count": 8,
   "metadata": {},
   "outputs": [
    {
     "name": "stdout",
     "output_type": "stream",
     "text": [
      "Model uses 2.46 MB\n",
      "Adaptation network uses 3.23 MB\n"
     ]
    }
   ],
   "source": [
    "# assume that each of the parameters is a float32, which has 4 bytes\n",
    "# then we can calculate the memory usage in MB\n",
    "print(f\"Model uses {numel(agent) * 4 / 1024**2:.2f} MB\")\n",
    "print(f\"Adaptation network uses {numel(adapt_net) * 4 / 1024**2:.2f} MB\")"
   ]
  },
  {
   "cell_type": "code",
   "execution_count": 9,
   "metadata": {},
   "outputs": [
    {
     "name": "stdout",
     "output_type": "stream",
     "text": [
      "Model uses 2.46 MB\n",
      "Adaptation network uses 3.23 MB\n",
      "Total uses 5.68 MB\n"
     ]
    }
   ],
   "source": [
    "# this time only the trainable parameters\n",
    "print(f\"Model uses {numel(agent, only_trainable=True) * 4 / 1024**2:.2f} MB\")\n",
    "print(f\"Adaptation network uses {numel(adapt_net, only_trainable=True) * 4 / 1024**2:.2f} MB\")\n",
    "print(f\"Total uses {(numel(agent, only_trainable=True) + numel(adapt_net, only_trainable=True)) * 4 / 1024**2:.2f} MB\")"
   ]
  },
  {
   "cell_type": "code",
   "execution_count": null,
   "metadata": {},
   "outputs": [],
   "source": []
  }
 ],
 "metadata": {
  "kernelspec": {
   "display_name": "adapt-drones",
   "language": "python",
   "name": "python3"
  },
  "language_info": {
   "codemirror_mode": {
    "name": "ipython",
    "version": 3
   },
   "file_extension": ".py",
   "mimetype": "text/x-python",
   "name": "python",
   "nbconvert_exporter": "python",
   "pygments_lexer": "ipython3",
   "version": "3.10.12"
  }
 },
 "nbformat": 4,
 "nbformat_minor": 2
}
